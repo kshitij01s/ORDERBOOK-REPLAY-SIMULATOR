{
 "cells": [
  {
   "cell_type": "code",
   "execution_count": 4,
   "id": "10b202d5-26a5-48a0-ace2-933e3ae8b8fe",
   "metadata": {},
   "outputs": [
    {
     "name": "stdout",
     "output_type": "stream",
     "text": [
      "Status Code: 200\n",
      "Response JSON: {'message': 'Tick received', 'tick': {'symbol': 'AAPL', 'price': 178.5, 'volume': 100, 'side': 'buy', 'timestamp': '2025-08-20T12:34:56'}}\n"
     ]
    }
   ],
   "source": [
    "import requests\n",
    "import json\n",
    "\n",
    "# Base URL of the running FastAPI server\n",
    "BASE_URL = \"http://127.0.0.1:8000\"\n",
    "\n",
    "# ✅ Example tick data\n",
    "tick_data = {\n",
    "    \"symbol\": \"AAPL\",\n",
    "    \"price\": 178.50,\n",
    "    \"volume\": 100,\n",
    "    \"side\": \"buy\",\n",
    "    \"timestamp\": \"2025-08-20T12:34:56\"\n",
    "}\n",
    "\n",
    "# 🔁 Send tick data to the API\n",
    "response = requests.post(f\"{BASE_URL}/ticks/\", json=tick_data)\n",
    "\n",
    "print(\"Status Code:\", response.status_code)\n",
    "print(\"Response JSON:\", response.json())\n"
   ]
  },
  {
   "cell_type": "code",
   "execution_count": 9,
   "id": "f4f02917",
   "metadata": {},
   "outputs": [
    {
     "name": "stdout",
     "output_type": "stream",
     "text": [
      "Simulation Status: 200\n",
      "Simulation Result: {'message': 'Simulation started'}\n",
      "All Ticks: 200\n",
      "[{'timestamp': 1695000000000, 'bids': [['26000.00', '0.5'], ['25995.00', '1.0']], 'asks': [['26005.00', '0.4'], ['26010.00', '0.8']]}, {'timestamp': 1695000001000, 'bids': [['26001.00', '0.3'], ['26000.00', '0.4']], 'asks': [['26006.00', '0.5'], ['26010.00', '0.8']]}, {'timestamp': 1695000002000, 'bids': [['26001.00', '0.0'], ['25995.00', '1.2']], 'asks': [['26006.00', '0.0'], ['26011.00', '0.7']]}, {'timestamp': 1695000003000, 'bids': [['25990.00', '0.6']], 'asks': [['26004.00', '0.3']]}, {'timestamp': 1695000004000, 'bids': [['25990.00', '0.0']], 'asks': [['26003.00', '0.5']]}]\n"
     ]
    }
   ],
   "source": [
    "# Send simulation request (if supported by your API)\n",
    "simulate_response = requests.get(f\"{BASE_URL}/simulate/\")\n",
    "\n",
    "print(\"Simulation Status:\", simulate_response.status_code)\n",
    "print(\"Simulation Result:\", simulate_response.json())\n",
    "all_ticks_response = requests.get(f\"{BASE_URL}/ticks/\")\n",
    "\n",
    "print(\"All Ticks:\", all_ticks_response.status_code)\n",
    "print(all_ticks_response.json())\n"
   ]
  }
 ],
 "metadata": {
  "kernelspec": {
   "display_name": "Python 3",
   "language": "python",
   "name": "python3"
  },
  "language_info": {
   "codemirror_mode": {
    "name": "ipython",
    "version": 3
   },
   "file_extension": ".py",
   "mimetype": "text/x-python",
   "name": "python",
   "nbconvert_exporter": "python",
   "pygments_lexer": "ipython3",
   "version": "3.10.11"
  }
 },
 "nbformat": 4,
 "nbformat_minor": 5
}
